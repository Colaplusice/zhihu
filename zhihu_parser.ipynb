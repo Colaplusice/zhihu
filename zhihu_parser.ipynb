{
 "cells": [
  {
   "cell_type": "code",
   "execution_count": 6,
   "metadata": {},
   "outputs": [],
   "source": [
    "import requests\n",
    "\n",
    "headers={\n",
    "    'Host': 'www.zhihu.com',\n",
    "    'Referer': 'https://www.zhihu.com/',\n",
    "    \"User-Agent\": \"Mozilla/5.0 (Macintosh; Intel Mac OS X 10_14_2) AppleWebKit/537.36 (KHTML, like Gecko) Chrome/73.0.3683.103 Safari/537.36\",\n",
    "    # \"scheme\":\"https\"\n",
    "}\n"
   ]
  },
  {
   "cell_type": "code",
   "execution_count": 72,
   "metadata": {},
   "outputs": [],
   "source": [
    "user_url='https://www.zhihu.com/people/fan-jia-liang-57/following'\n",
    "res=requests.get(\"https://www.zhihu.com/people/fan-jia-liang-57/following\",headers=headers)"
   ]
  },
  {
   "cell_type": "code",
   "execution_count": 8,
   "metadata": {},
   "outputs": [
    {
     "data": {
      "text/plain": [
       "200"
      ]
     },
     "execution_count": 8,
     "metadata": {},
     "output_type": "execute_result"
    }
   ],
   "source": [
    "res.status_code\n"
   ]
  },
  {
   "cell_type": "code",
   "execution_count": 10,
   "metadata": {},
   "outputs": [],
   "source": [
    "from bs4 import BeautifulSoup\n",
    "soup=BeautifulSoup(res.text,'html.parser')"
   ]
  },
  {
   "cell_type": "code",
   "execution_count": 54,
   "metadata": {},
   "outputs": [
    {
     "data": {
      "text/plain": [
       "'此去经年'"
      ]
     },
     "execution_count": 54,
     "metadata": {},
     "output_type": "execute_result"
    }
   ],
   "source": [
    "soup.find_all(\"span\",{\"class\":\"ProfileHeader-name\"})[0].text"
   ]
  },
  {
   "cell_type": "code",
   "execution_count": 23,
   "metadata": {},
   "outputs": [],
   "source": [
    "profile_headline=soup.find_all(\"span\",{\"class\":\"ztext ProfileHeader-headline\"})[0].text"
   ]
  },
  {
   "cell_type": "code",
   "execution_count": 77,
   "metadata": {},
   "outputs": [],
   "source": [
    "detail_profiles=soup.find(\"script\",{\"id\":\"js-initialData\"})"
   ]
  },
  {
   "cell_type": "code",
   "execution_count": 78,
   "metadata": {},
   "outputs": [
    {
     "data": {
      "text/plain": [
       "<script id=\"js-initialData\" type=\"text/json\">{\"initialState\":{\"common\":{\"ask\":{}},\"loading\":{\"global\":{\"count\":0},\"local\":{\"people\\u002Fget\\u002F\":false,\"switches\\u002FgetVipSwitches\\u002F\":false,\"people\\u002FgetFollowings\\u002Ffan-jia-liang-57\":false}},\"entities\":{\"users\":{\"fan-jia-liang-57\":{\"id\":\"1b0812207be4a06cea0e641afb98703a\",\"urlToken\":\"fan-jia-liang-57\",\"name\":\"此去经年\",\"avatarUrl\":\"https:\\u002F\\u002Fpic4.zhimg.com\\u002Fda8e974dc_is.jpg\",\"avatarUrlTemplate\":\"https:\\u002F\\u002Fpic4.zhimg.com\\u002Fda8e974dc_{size}.jpg\",\"isOrg\":false,\"type\":\"people\",\"url\":\"http:\\u002F\\u002Fwww.zhihu.com\\u002Fpeople\\u002Ffan-jia-liang-57\",\"userType\":\"people\",\"headline\":\"软件专业学生\",\"isActive\":1444494986,\"description\":\"\",\"gender\":1,\"isAdvertiser\":false,\"vipInfo\":{\"isVip\":false,\"renameDays\":\"60\"},\"badge\":[],\"accountStatus\":[],\"messageThreadToken\":\"3227377600\",\"allowMessage\":true,\"isFollowing\":false,\"isFollowed\":false,\"isBlocking\":false,\"isBlocked\":false,\"isForceRenamed\":false,\"followerCount\":6,\"followingCount\":43,\"mutualFolloweesCount\":0,\"answerCount\":4,\"questionCount\":2,\"commercialQuestionCount\":0,\"articlesCount\":1,\"columnsCount\":0,\"favoriteCount\":7,\"favoritedCount\":0,\"pinsCount\":0,\"logsCount\":5,\"voteupCount\":1,\"thankedCount\":0,\"hostedLiveCount\":0,\"participatedLiveCount\":0,\"includedAnswersCount\":0,\"includedArticlesCount\":0,\"includedText\":\"\",\"followingColumnsCount\":6,\"followingTopicCount\":13,\"followingQuestionCount\":28,\"followingFavlistsCount\":0,\"voteToCount\":0,\"voteFromCount\":0,\"thankToCount\":0,\"thankFromCount\":0,\"recognizedCount\":0,\"business\":{\"id\":\"19619368\",\"type\":\"topic\",\"url\":\"http:\\u002F\\u002Fwww.zhihu.com\\u002Ftopics\\u002F19619368\",\"name\":\"计算机软件\",\"avatarUrl\":\"https:\\u002F\\u002Fpic4.zhimg.com\\u002Fe82bab09c_is.jpg\"},\"locations\":[{\"id\":\"19569835\",\"type\":\"topic\",\"url\":\"http:\\u002F\\u002Fwww.zhihu.com\\u002Ftopics\\u002F19569835\",\"name\":\"济南\",\"avatarUrl\":\"https:\\u002F\\u002Fpic2.zhimg.com\\u002Fv2-065e4acc6e1b7ee6d9df318348ae6dac_is.jpg\"}],\"employments\":[],\"educations\":[{\"school\":{\"id\":\"19864829\",\"type\":\"topic\",\"url\":\"http:\\u002F\\u002Fwww.zhihu.com\\u002Ftopics\\u002F19864829\",\"name\":\"山东大学\",\"avatarUrl\":\"https:\\u002F\\u002Fpic3.zhimg.com\\u002F150555933_is.jpg\"},\"diploma\":0}],\"coverUrl\":\"\",\"avatarHue\":\"\",\"isPrivacyProtected\":true},\"xiao-hei-87-50\":{\"isFollowed\":false,\"avatarUrlTemplate\":\"https:\\u002F\\u002Fpic1.zhimg.com\\u002Fv2-044aea6a235a2fc4a6a3822579b7ed64_{size}.jpg\",\"userType\":\"people\",\"answerCount\":12,\"isFollowing\":false,\"headline\":\"空谈误国\",\"urlToken\":\"xiao-hei-87-50\",\"id\":\"980482c8e90e2895c489db860779b69d\",\"articlesCount\":0,\"type\":\"people\",\"name\":\"老太爷\",\"url\":\"http:\\u002F\\u002Fwww.zhihu.com\\u002Fpeople\\u002F980482c8e90e2895c489db860779b69d\",\"gender\":1,\"vipInfo\":{\"isVip\":false},\"isAdvertiser\":false,\"avatarUrl\":\"https:\\u002F\\u002Fpic1.zhimg.com\\u002Fv2-044aea6a235a2fc4a6a3822579b7ed64_is.jpg\",\"isOrg\":false,\"followerCount\":6,\"badge\":[]},\"wo-ye-yao-you-you-yu-yu\":{\"isFollowed\":false,\"avatarUrlTemplate\":\"https:\\u002F\\u002Fpic3.zhimg.com\\u002Fv2-eb3d573a02148e23eb6b59f69cfd679a_{size}.jpg\",\"userType\":\"people\",\"answerCount\":7,\"isFollowing\":false,\"headline\":\"学生\",\"urlToken\":\"wo-ye-yao-you-you-yu-yu\",\"id\":\"caf29d19f23c6c105783d8a533cc2fbd\",\"articlesCount\":2,\"type\":\"people\",\"name\":\"Kelly的小蝴蝶\",\"url\":\"http:\\u002F\\u002Fwww.zhihu.com\\u002Fpeople\\u002Fcaf29d19f23c6c105783d8a533cc2fbd\",\"gender\":-1,\"vipInfo\":{\"isVip\":false},\"isAdvertiser\":false,\"avatarUrl\":\"https:\\u002F\\u002Fpic3.zhimg.com\\u002Fv2-eb3d573a02148e23eb6b59f69cfd679a_is.jpg\",\"isOrg\":false,\"followerCount\":21,\"badge\":[]},\"lee-91-8\":{\"isFollowed\":false,\"avatarUrlTemplate\":\"https:\\u002F\\u002Fpic1.zhimg.com\\u002Fv2-e8ed5a7a76c04a71d6808ff762fe9ef4_{size}.jpg\",\"userType\":\"people\",\"answerCount\":14,\"isFollowing\":false,\"headline\":\"\",\"urlToken\":\"lee-91-8\",\"id\":\"cdaeca129a2ddf53274af9ca4b58b16c\",\"articlesCount\":0,\"type\":\"people\",\"name\":\"lee\",\"url\":\"http:\\u002F\\u002Fwww.zhihu.com\\u002Fpeople\\u002Fcdaeca129a2ddf53274af9ca4b58b16c\",\"gender\":0,\"vipInfo\":{\"isVip\":false},\"isAdvertiser\":false,\"avatarUrl\":\"https:\\u002F\\u002Fpic1.zhimg.com\\u002Fv2-e8ed5a7a76c04a71d6808ff762fe9ef4_is.jpg\",\"isOrg\":false,\"followerCount\":17,\"badge\":[]},\"t_o_r\":{\"isFollowed\":false,\"avatarUrlTemplate\":\"https:\\u002F\\u002Fpic4.zhimg.com\\u002Fv2-bb70150d3ab79fca05d5bfe4a34b99ff_{size}.jpg\",\"userType\":\"people\",\"answerCount\":8,\"isFollowing\":false,\"headline\":\"从0学代码\",\"urlToken\":\"t_o_r\",\"id\":\"eb4387901c7924f55ab2c679ddd74771\",\"articlesCount\":1,\"type\":\"people\",\"name\":\"wuhy\",\"url\":\"http:\\u002F\\u002Fwww.zhihu.com\\u002Fpeople\\u002Feb4387901c7924f55ab2c679ddd74771\",\"gender\":1,\"vipInfo\":{\"isVip\":false},\"isAdvertiser\":false,\"avatarUrl\":\"https:\\u002F\\u002Fpic4.zhimg.com\\u002Fv2-bb70150d3ab79fca05d5bfe4a34b99ff_is.jpg\",\"isOrg\":false,\"followerCount\":190,\"badge\":[]},\"liaoxuefeng\":{\"isFollowed\":false,\"avatarUrlTemplate\":\"https:\\u002F\\u002Fpic1.zhimg.com\\u002F17237388534b0df48ec200192bb45cc4_{size}.jpg\",\"userType\":\"people\",\"answerCount\":770,\"isFollowing\":false,\"headline\":\"业余马拉松选手 www.liaoxuefeng.com\",\"urlToken\":\"liaoxuefeng\",\"id\":\"c32ad3f421f57eaa80782e51ec6a5bde\",\"articlesCount\":23,\"type\":\"people\",\"name\":\"廖雪峰\",\"url\":\"http:\\u002F\\u002Fwww.zhihu.com\\u002Fpeople\\u002Fc32ad3f421f57eaa80782e51ec6a5bde\",\"gender\":1,\"vipInfo\":{\"isVip\":false},\"isAdvertiser\":false,\"avatarUrl\":\"https:\\u002F\\u002Fpic1.zhimg.com\\u002F17237388534b0df48ec200192bb45cc4_is.jpg\",\"isOrg\":false,\"followerCount\":89454,\"badge\":[]},\"spring-74-20\":{\"isFollowed\":false,\"avatarUrlTemplate\":\"https:\\u002F\\u002Fpic3.zhimg.com\\u002Fbc041654d4d5e95d0a9df3bb8c3c5a66_{size}.jpg\",\"userType\":\"people\",\"answerCount\":8,\"isFollowing\":false,\"headline\":\"\",\"urlToken\":\"spring-74-20\",\"id\":\"a711a26ffc0af98ce23f4378b4e1f93c\",\"articlesCount\":0,\"type\":\"people\",\"name\":\"spring\",\"url\":\"http:\\u002F\\u002Fwww.zhihu.com\\u002Fpeople\\u002Fa711a26ffc0af98ce23f4378b4e1f93c\",\"gender\":0,\"vipInfo\":{\"isVip\":false},\"isAdvertiser\":false,\"avatarUrl\":\"https:\\u002F\\u002Fpic3.zhimg.com\\u002Fbc041654d4d5e95d0a9df3bb8c3c5a66_is.jpg\",\"isOrg\":false,\"followerCount\":69,\"badge\":[]},\"yonghaohu\":{\"isFollowed\":false,\"avatarUrlTemplate\":\"https:\\u002F\\u002Fpic4.zhimg.com\\u002Fv2-fd1f717817139efaf48bb446b972cc8b_{size}.jpg\",\"userType\":\"people\",\"answerCount\":205,\"isFollowing\":false,\"headline\":\"公众号：YongHao写东西的cache\",\"urlToken\":\"yonghaohu\",\"id\":\"6065680b34ea78f0be2f3183e99cf1f8\",\"articlesCount\":5,\"type\":\"people\",\"name\":\"胡永浩\",\"url\":\"http:\\u002F\\u002Fwww.zhihu.com\\u002Fpeople\\u002F6065680b34ea78f0be2f3183e99cf1f8\",\"gender\":1,\"vipInfo\":{\"isVip\":false},\"isAdvertiser\":false,\"avatarUrl\":\"https:\\u002F\\u002Fpic4.zhimg.com\\u002Fv2-fd1f717817139efaf48bb446b972cc8b_is.jpg\",\"isOrg\":false,\"followerCount\":894,\"badge\":[]},\"bu-ding\":{\"isFollowed\":false,\"avatarUrlTemplate\":\"https:\\u002F\\u002Fpic2.zhimg.com\\u002Ff903704cd67aea3899acc723e963fc1d_{size}.png\",\"userType\":\"people\",\"answerCount\":95,\"isFollowing\":false,\"headline\":\"https:\\u002F\\u002Fyuheng.io\",\"urlToken\":\"bu-ding\",\"id\":\"042ef4838255b4cad32f0df98c1954fc\",\"articlesCount\":4,\"type\":\"people\",\"name\":\"布丁\",\"url\":\"http:\\u002F\\u002Fwww.zhihu.com\\u002Fpeople\\u002F042ef4838255b4cad32f0df98c1954fc\",\"gender\":-1,\"vipInfo\":{\"isVip\":false},\"isAdvertiser\":false,\"avatarUrl\":\"https:\\u002F\\u002Fpic2.zhimg.com\\u002Ff903704cd67aea3899acc723e963fc1d_is.png\",\"isOrg\":false,\"followerCount\":7880,\"badge\":[]},\"dongweiming\":{\"isFollowed\":false,\"avatarUrlTemplate\":\"https:\\u002F\\u002Fpic4.zhimg.com\\u002F258463ec3_{size}.jpg\",\"userType\":\"people\",\"answerCount\":61,\"isFollowing\":false,\"headline\":\"https:\\u002F\\u002Fzhuanlan.zhihu.com\\u002Fp\\u002F33611869\",\"urlToken\":\"dongweiming\",\"id\":\"6d23d8e16eb481e548032719bb5898a4\",\"articlesCount\":63,\"type\":\"people\",\"name\":\"董伟明\",\"url\":\"http:\\u002F\\u002Fwww.zhihu.com\\u002Fpeople\\u002F6d23d8e16eb481e548032719bb5898a4\",\"gender\":1,\"vipInfo\":{\"isVip\":true,\"vipIcon\":{\"nightModeUrl\":\"https:\\u002F\\u002Fpic3.zhimg.com\\u002F50\\u002Fv2-c9686ff064ea3579730756ac6c289978_r.png\",\"url\":\"https:\\u002F\\u002Fpic2.zhimg.com\\u002F50\\u002Fv2-034fefe15c83232cb448718998719d34_r.png\"}},\"isAdvertiser\":false,\"avatarUrl\":\"https:\\u002F\\u002Fpic4.zhimg.com\\u002F258463ec3_is.jpg\",\"isOrg\":false,\"followerCount\":37415,\"badge\":[{\"topics\":[{\"introduction\":\"Python（英国发音：\\u002Fˈpaɪθən\\u002F 美国发音：\\u002Fˈpaɪθɑːn\\u002F）, 是一种面向对象的解释型计算机程序设计语言，由荷兰人Guido van Rossum于1989年发明，第一个公开发行版发行于1991年。Python是纯粹的自由软件， 源代码和解释器CPython遵循 GPL(GNU General Public License)协议。Python语法简洁清晰，特色之一是强制用空白符(white space)作为语句缩进。Python具有丰富和强大的库。它常被昵称为胶水语言，能够把用其他语言制作的各种模块（尤其是C\\u002FC++）很轻松地联结在一起。常见的一种应用情形是，使用Python快速生成程序的原型（有时甚至是程序的最终界面），然后对其中有特别要求的部分，用更合适的语言改写，比如3D游戏中的图形渲染模块，性能要求特别高，就可以用C\\u002FC++重写，而后封装为Python可以调用的扩展类库。需要注意的是在您使用扩展类库时可能需要考虑平台问题，某些可能不提供跨平台的实现。7月20日，IEEE发布2017年编程语言排行榜：Python高居首位。2018年3月，该语言作者在邮件列表上宣布 Python 2.7将于2020年1月1日终止支持。用户如果想要在这个日期之后继续得到与Python 2.7有关的支持，则需要付费给商业供应商。\",\"avatarUrl\":\"https:\\u002F\\u002Fpic2.zhimg.com\\u002Fv2-1b642f312b0369f240fd6fb494f4acc9_is.png\",\"name\":\"Python\",\"url\":\"http:\\u002F\\u002Fwww.zhihu.com\\u002Ftopics\\u002F19552832\",\"type\":\"topic\",\"excerpt\":\"Python（英国发音：\\u002Fˈpaɪθən\\u002F 美国发音：\\u002Fˈpaɪθɑːn\\u002F）, 是一种面向对象的解释型计算机程序设计语言，由荷兰人Guido van Rossum于1989年发明，第一个公开发行版发行于1991年。Python是纯粹的自由软件， 源代码和解释器CPython遵循 GPL(GNU General Public License)协议。Python语法简洁清晰，特色之一是强制用空白符(white space)作为语句缩进。Python具有丰富和强大的库。它常被昵称为胶水语言，能够把用其…\",\"id\":\"19552832\"}],\"type\":\"best_answerer\",\"description\":\"优秀回答者\"}]},\"wan-jin-you-39\":{\"isFollowed\":false,\"avatarUrlTemplate\":\"https:\\u002F\\u002Fpic2.zhimg.com\\u002Fv2-4f279b26ee4b2e4b786a2c0d5b279d6d_{size}.jpg\",\"userType\":\"people\",\"answerCount\":1014,\"isFollowing\":false,\"headline\":\"wjydwsw不讲正确无用的套话，探究事物背后的真相\",\"urlToken\":\"wan-jin-you-39\",\"id\":\"72b7cbb1e8040fd512e99b1e2becdb59\",\"articlesCount\":12,\"type\":\"people\",\"name\":\"万金油\",\"url\":\"http:\\u002F\\u002Fwww.zhihu.com\\u002Fpeople\\u002F72b7cbb1e8040fd512e99b1e2becdb59\",\"gender\":1,\"vipInfo\":{\"isVip\":false},\"isAdvertiser\":false,\"avatarUrl\":\"https:\\u002F\\u002Fpic2.zhimg.com\\u002Fv2-4f279b26ee4b2e4b786a2c0d5b279d6d_is.jpg\",\"isOrg\":false,\"followerCount\":220930,\"badge\":[]},\"xueguang-yang\":{\"isFollowed\":false,\"avatarUrlTemplate\":\"https:\\u002F\\u002Fpic3.zhimg.com\\u002Fv2-34cd9054a2a23b46b5131aa85649031a_{size}.jpg\",\"userType\":\"people\",\"answerCount\":223,\"isFollowing\":false,\"headline\":\"个人博客：http:\\u002F\\u002Fzmrenwu.com\\u002F\",\"urlToken\":\"xueguang-yang\",\"id\":\"fbfd391076f7c6d7a335b79642bc3156\",\"articlesCount\":51,\"type\":\"people\",\"name\":\"追梦人物\",\"url\":\"http:\\u002F\\u002Fwww.zhihu.com\\u002Fpeople\\u002Ffbfd391076f7c6d7a335b79642bc3156\",\"gender\":1,\"vipInfo\":{\"isVip\":false},\"isAdvertiser\":false,\"avatarUrl\":\"https:\\u002F\\u002Fpic3.zhimg.com\\u002Fv2-34cd9054a2a23b46b5131aa85649031a_is.jpg\",\"isOrg\":false,\"followerCount\":4060,\"badge\":[]},\"chao-xu\":{\"isFollowed\":false,\"avatarUrlTemplate\":\"https:\\u002F\\u002Fpic1.zhimg.com\\u002Fda8e974dc_{size}.jpg\",\"userType\":\"people\",\"answerCount\":81,\"isFollowing\":false,\"headline\":\"\",\"urlToken\":\"chao-xu\",\"id\":\"7d3728d93e51b71f28c7255cc79eb49d\",\"articlesCount\":23,\"type\":\"people\",\"name\":\"「已注销」\",\"url\":\"http:\\u002F\\u002Fwww.zhihu.com\\u002Fpeople\\u002F7d3728d93e51b71f28c7255cc79eb49d\",\"gender\":0,\"vipInfo\":{\"isVip\":false},\"isAdvertiser\":false,\"avatarUrl\":\"https:\\u002F\\u002Fpic1.zhimg.com\\u002Fda8e974dc_is.jpg\",\"isOrg\":false,\"followerCount\":12062,\"badge\":[]},\"lun-zi-ge\":{\"isFollowed\":false,\"avatarUrlTemplate\":\"https:\\u002F\\u002Fpic1.zhimg.com\\u002Fv2-d4661dd9a1527965d3c2036470ddae68_{size}.jpg\",\"userType\":\"people\",\"answerCount\":0,\"isFollowing\":false,\"headline\":\"\",\"urlToken\":\"lun-zi-ge\",\"id\":\"35a980e20f9d6bc99c381fb98f0f5477\",\"articlesCount\":0,\"type\":\"people\",\"name\":\"Kevin Chan\",\"url\":\"http:\\u002F\\u002Fwww.zhihu.com\\u002Fpeople\\u002F35a980e20f9d6bc99c381fb98f0f5477\",\"gender\":1,\"vipInfo\":{\"isVip\":false},\"isAdvertiser\":false,\"avatarUrl\":\"https:\\u002F\\u002Fpic1.zhimg.com\\u002Fv2-d4661dd9a1527965d3c2036470ddae68_is.jpg\",\"isOrg\":false,\"followerCount\":13404,\"badge\":[]},\"nealon\":{\"isFollowed\":false,\"avatarUrlTemplate\":\"https:\\u002F\\u002Fpic1.zhimg.com\\u002F5fc8fd6d145c6d420c98bb6eeb4a3650_{size}.jpg\",\"userType\":\"people\",\"answerCount\":2,\"isFollowing\":false,\"headline\":\"互联网从业者\",\"urlToken\":\"nealon\",\"id\":\"1f45aed27f6f803adeb2034e1b507099\",\"articlesCount\":506,\"type\":\"people\",\"name\":\"Nealon\",\"url\":\"http:\\u002F\\u002Fwww.zhihu.com\\u002Fpeople\\u002F1f45aed27f6f803adeb2034e1b507099\",\"gender\":1,\"vipInfo\":{\"isVip\":false},\"isAdvertiser\":false,\"avatarUrl\":\"https:\\u002F\\u002Fpic1.zhimg.com\\u002F5fc8fd6d145c6d420c98bb6eeb4a3650_is.jpg\",\"isOrg\":false,\"followerCount\":19669,\"badge\":[]},\"wei-xing-21\":{\"isFollowed\":false,\"avatarUrlTemplate\":\"https:\\u002F\\u002Fpic1.zhimg.com\\u002F9bc7f1cb174bc2736b3815e7ab6b47f4_{size}.jpg\",\"userType\":\"people\",\"answerCount\":36,\"isFollowing\":false,\"headline\":\"数据挖掘基\",\"urlToken\":\"wei-xing-21\",\"id\":\"f20ffe468dffe8114f4648ec8ab75e58\",\"articlesCount\":0,\"type\":\"people\",\"name\":\"霜枫\",\"url\":\"http:\\u002F\\u002Fwww.zhihu.com\\u002Fpeople\\u002Ff20ffe468dffe8114f4648ec8ab75e58\",\"gender\":1,\"vipInfo\":{\"isVip\":false},\"isAdvertiser\":false,\"avatarUrl\":\"https:\\u002F\\u002Fpic1.zhimg.com\\u002F9bc7f1cb174bc2736b3815e7ab6b47f4_is.jpg\",\"isOrg\":false,\"followerCount\":13,\"badge\":[]},\"chen-da-chui-67\":{\"isFollowed\":false,\"avatarUrlTemplate\":\"https:\\u002F\\u002Fpic3.zhimg.com\\u002Fv2-4f9a4b669e2534ef8dc0ee7240ea125a_{size}.jpg\",\"userType\":\"people\",\"answerCount\":29,\"isFollowing\":false,\"headline\":\"作业问题每100行代码80元起步，需要请私信，不接受邀请\",\"urlToken\":\"chen-da-chui-67\",\"id\":\"359487758d8edab4186f870e5bae52d3\",\"articlesCount\":4,\"type\":\"people\",\"name\":\"海克斯科技大冰锤\",\"url\":\"http:\\u002F\\u002Fwww.zhihu.com\\u002Fpeople\\u002F359487758d8edab4186f870e5bae52d3\",\"gender\":1,\"vipInfo\":{\"isVip\":false},\"isAdvertiser\":false,\"avatarUrl\":\"https:\\u002F\\u002Fpic3.zhimg.com\\u002Fv2-4f9a4b669e2534ef8dc0ee7240ea125a_is.jpg\",\"isOrg\":false,\"followerCount\":282,\"badge\":[]},\"liu-bei-bei-53-27\":{\"isFollowed\":false,\"avatarUrlTemplate\":\"https:\\u002F\\u002Fpic1.zhimg.com\\u002Fv2-33446e6471e177f41abf69a995c0eec8_{size}.jpg\",\"userType\":\"people\",\"answerCount\":1,\"isFollowing\":false,\"headline\":\"一个学采矿工程的新媒体及教育工作者\",\"urlToken\":\"liu-bei-bei-53-27\",\"id\":\"afa34d037a8449d18caf31fddd0f1784\",\"articlesCount\":0,\"type\":\"people\",\"name\":\"雨夜畅想\",\"url\":\"http:\\u002F\\u002Fwww.zhihu.com\\u002Fpeople\\u002Fafa34d037a8449d18caf31fddd0f1784\",\"gender\":-1,\"vipInfo\":{\"isVip\":false},\"isAdvertiser\":false,\"avatarUrl\":\"https:\\u002F\\u002Fpic1.zhimg.com\\u002Fv2-33446e6471e177f41abf69a995c0eec8_is.jpg\",\"isOrg\":false,\"followerCount\":1645,\"badge\":[]},\"zhao-hui-87-54\":{\"isFollowed\":false,\"avatarUrlTemplate\":\"https:\\u002F\\u002Fpic1.zhimg.com\\u002Fv2-db68b82fd309efe93b207d3e7a62496c_{size}.jpg\",\"userType\":\"people\",\"answerCount\":45,\"isFollowing\":false,\"headline\":\"你若盛开 清风徐来\",\"urlToken\":\"zhao-hui-87-54\",\"id\":\"18650ba833c4f2f222e070f4eb188f95\",\"articlesCount\":0,\"type\":\"people\",\"name\":\"北奔\",\"url\":\"http:\\u002F\\u002Fwww.zhihu.com\\u002Fpeople\\u002F18650ba833c4f2f222e070f4eb188f95\",\"gender\":1,\"vipInfo\":{\"isVip\":false},\"isAdvertiser\":false,\"avatarUrl\":\"https:\\u002F\\u002Fpic1.zhimg.com\\u002Fv2-db68b82fd309efe93b207d3e7a62496c_is.jpg\",\"isOrg\":false,\"followerCount\":39,\"badge\":[]},\"pegasus-wang\":{\"isFollowed\":false,\"avatarUrlTemplate\":\"https:\\u002F\\u002Fpic4.zhimg.com\\u002Fv2-20e8b10618866b1bbdd282aaff488dcb_{size}.jpg\",\"userType\":\"people\",\"answerCount\":503,\"isFollowing\":false,\"headline\":\"Python后端B站UP主。慕课网搜 Python 面试课程\",\"urlToken\":\"pegasus-wang\",\"id\":\"a552436535aaff6df7edd7700b59f80b\",\"articlesCount\":77,\"type\":\"people\",\"name\":\"PegasusWang\",\"url\":\"http:\\u002F\\u002Fwww.zhihu.com\\u002Fpeople\\u002Fa552436535aaff6df7edd7700b59f80b\",\"gender\":1,\"vipInfo\":{\"isVip\":false},\"isAdvertiser\":false,\"avatarUrl\":\"https:\\u002F\\u002Fpic4.zhimg.com\\u002Fv2-20e8b10618866b1bbdd282aaff488dcb_is.jpg\",\"isOrg\":false,\"followerCount\":23678,\"badge\":[]},\"jzwsvic\":{\"isFollowed\":false,\"avatarUrlTemplate\":\"https:\\u002F\\u002Fpic4.zhimg.com\\u002Fv2-d5b2bc5b734fc5910010a83469047db7_{size}.jpg\",\"userType\":\"people\",\"answerCount\":39,\"isFollowing\":false,\"headline\":\"笔记本PC产品经理，X86-ISA,SIMD向量化并行计算\",\"urlToken\":\"jzwsvic\",\"id\":\"fa4c2698701a87222254037026648044\",\"articlesCount\":3,\"type\":\"people\",\"name\":\"JZWSVIC\",\"url\":\"http:\\u002F\\u002Fwww.zhihu.com\\u002Fpeople\\u002Ffa4c2698701a87222254037026648044\",\"gender\":-1,\"vipInfo\":{\"isVip\":false},\"isAdvertiser\":false,\"avatarUrl\":\"https:\\u002F\\u002Fpic4.zhimg.com\\u002Fv2-d5b2bc5b734fc5910010a83469047db7_is.jpg\",\"isOrg\":false,\"followerCount\":1951,\"badge\":[{\"topics\":[{\"introduction\":\"中央处理器（CPU，Central Processing Unit）是一块超大规模的集成电路，是一台计算机的运算核心（Core）和控制核心（ Control Unit）。它的功能主要是解释计算机指令以及处理计算机软件中的数据。中央处理器主要包括运算器（算术逻辑运算单元，ALU，Arithmetic Logic Unit）和高速缓冲存储器（Cache）及实现它们之间联系的数据（Data）、控制及状态的总线（Bus）。它与内部存储器（Memory）和输入\\u002F输出（I\\u002FO）设备合称为电子计算机三大核心部件。\",\"avatarUrl\":\"https:\\u002F\\u002Fpic1.zhimg.com\\u002F9de62b0d0_is.jpg\",\"name\":\"中央处理器 (CPU)\",\"url\":\"http:\\u002F\\u002Fwww.zhihu.com\\u002Ftopics\\u002F19553309\",\"type\":\"topic\",\"excerpt\":\"中央处理器（CPU，Central Processing Unit）是一块超大规模的集成电路，是一台计算机的运算核心（Core）和控制核心（ Control Unit）。它的功能主要是解释计算机指令以及处理计算机软件中的数据。中央处理器主要包括运算器（算术逻辑运算单元，ALU，Arithmetic Logic Unit）和高速缓冲存储器（Cache）及实现它们之间联系的数据（Data）、控制及状态的总线（Bus）。它与内部存储器（Memory）和输入\\u002F输出（I\\u002FO）设备合称为电子计…\",\"id\":\"19553309\"}],\"type\":\"best_answerer\",\"description\":\"优秀回答者\"}]}},\"questions\":{},\"answers\":{},\"articles\":{},\"columns\":{},\"topics\":{},\"roundtables\":{},\"favlists\":{},\"comments\":{},\"notifications\":{},\"ebooks\":{},\"activities\":{},\"feeds\":{},\"pins\":{},\"promotions\":{},\"drafts\":{}},\"currentUser\":\"\",\"account\":{\"lockLevel\":{},\"unlockTicketStatus\":false,\"unlockTicket\":null,\"challenge\":[],\"errorStatus\":false,\"message\":\"\",\"isFetching\":false,\"accountInfo\":{},\"urlToken\":{\"loading\":false}},\"settings\":{\"socialBind\":null,\"inboxMsg\":null,\"notification\":{},\"privacyFlag\":null,\"blockedUsers\":{\"isFetching\":false,\"paging\":{\"pageNo\":1,\"pageSize\":6},\"data\":[]},\"blockedFollowees\":{\"isFetching\":false,\"paging\":{\"pageNo\":1,\"pageSize\":6},\"data\":[]},\"ignoredTopics\":{\"isFetching\":false,\"paging\":{\"pageNo\":1,\"pageSize\":6},\"data\":[]},\"restrictedTopics\":null,\"laboratory\":{}},\"notification\":{},\"people\":{\"profileStatus\":{\"fan-jia-liang-57\":{\"token\":{\"id\":\"1b0812207be4a06cea0e641afb98703a\",\"urlToken\":\"fan-jia-liang-57\"},\"isFetching\":false,\"isDrained\":true}},\"activitiesByUser\":{},\"answersByUser\":{},\"answersSortByVotesByUser\":{},\"answersIncludedByUser\":{},\"votedAnswersByUser\":{},\"thankedAnswersByUser\":{},\"voteAnswersByUser\":{},\"thankAnswersByUser\":{},\"topicAnswersByUser\":{},\"articlesByUser\":{},\"articlesSortByVotesByUser\":{},\"articlesIncludedByUser\":{},\"pinsByUser\":{},\"questionsByUser\":{},\"commercialQuestionsByUser\":{},\"favlistsByUser\":{},\"followingByUser\":{\"fan-jia-liang-57\":{\"isDrained\":false,\"isFetching\":false,\"ids\":[\"xiao-hei-87-50\",\"wo-ye-yao-you-you-yu-yu\",\"lee-91-8\",\"t_o_r\",\"liaoxuefeng\",\"spring-74-20\",\"yonghaohu\",\"bu-ding\",\"dongweiming\",\"wan-jin-you-39\",\"xueguang-yang\",\"chao-xu\",\"lun-zi-ge\",\"nealon\",\"wei-xing-21\",\"chen-da-chui-67\",\"liu-bei-bei-53-27\",\"zhao-hui-87-54\",\"pegasus-wang\",\"jzwsvic\",null,null,null,null,null,null,null,null,null,null,null,null,null,null,null,null,null,null,null,null,null,null,null],\"totals\":43}},\"followersByUser\":{},\"mutualsByUser\":{},\"followingColumnsByUser\":{},\"followingQuestionsByUser\":{},\"followingFavlistsByUser\":{},\"followingTopicsByUser\":{},\"publicationsByUser\":{},\"columnsByUser\":{},\"allFavlistsByUser\":{},\"brands\":null,\"creationsByUser\":{},\"creationsSortByVotesByUser\":{}},\"env\":{\"ab\":{\"config\":{\"experiments\":[{\"expId\":\"launch-us_foltopic_user-10\",\"expPrefix\":\"us_foltopic_user\",\"isDynamicallyUpdated\":true,\"isRuntime\":false,\"includeTriggerInfo\":false},{\"expId\":\"qa_web_a_list_ad-5\",\"expPrefix\":\"qa_web_a_list_ad\",\"isDynamicallyUpdated\":true,\"isRuntime\":false,\"includeTriggerInfo\":false}],\"params\":[{\"id\":\"top_native_answer\",\"type\":\"String\",\"value\":\"1\",\"chainId\":\"_all_\"},{\"id\":\"top_new_user_rec\",\"type\":\"String\",\"value\":\"0\",\"chainId\":\"_all_\"},{\"id\":\"top_recall_exp_v2\",\"type\":\"String\",\"value\":\"1\",\"chainId\":\"_all_\"},{\"id\":\"web_answerlist_ad\",\"type\":\"String\",\"value\":\"0\"},{\"id\":\"li_es_new\",\"type\":\"String\",\"value\":\"new\",\"chainId\":\"_all_\"},{\"id\":\"se_ios_spb309\",\"type\":\"String\",\"value\":\"0\",\"chainId\":\"_all_\"},{\"id\":\"se_ios_spb309bugfix\",\"type\":\"String\",\"value\":\"0\",\"chainId\":\"_all_\"},{\"id\":\"se_spb309\",\"type\":\"String\",\"value\":\"0\",\"chainId\":\"_all_\"},{\"id\":\"se_terminate\",\"type\":\"String\",\"value\":\"0\",\"chainId\":\"_all_\"},{\"id\":\"top_rank\",\"type\":\"String\",\"value\":\"0\",\"chainId\":\"_all_\"},{\"id\":\"zr_art_rec\",\"type\":\"String\",\"value\":\"base\",\"chainId\":\"_all_\"},{\"id\":\"gue_new_special_page\",\"type\":\"String\",\"value\":\"0\"},{\"id\":\"se_domain_onebox\",\"type\":\"String\",\"value\":\"0\",\"chainId\":\"_all_\"},{\"id\":\"se_result_time\",\"type\":\"String\",\"value\":\"0\",\"chainId\":\"_all_\"},{\"id\":\"se_search_feed\",\"type\":\"String\",\"value\":\"N\",\"chainId\":\"_all_\"},{\"id\":\"se_topicseed\",\"type\":\"String\",\"value\":\"1\",\"chainId\":\"_all_\"},{\"id\":\"top_user_cluster\",\"type\":\"String\",\"value\":\"0\",\"chainId\":\"_all_\"},{\"id\":\"li_filter_ttl\",\"type\":\"String\",\"value\":\"2\",\"chainId\":\"_all_\"},{\"id\":\"ug_newtag\",\"type\":\"String\",\"value\":\"0\",\"chainId\":\"_all_\"},{\"id\":\"zr_video_rec\",\"type\":\"String\",\"value\":\"zr_video_rec:base\",\"chainId\":\"_all_\"},{\"id\":\"web_answer_list_ad\",\"type\":\"String\",\"value\":\"1\"},{\"id\":\"li_se_ebook_chapter\",\"type\":\"String\",\"value\":\"1\",\"chainId\":\"_all_\"},{\"id\":\"se_threshold\",\"type\":\"String\",\"value\":\"4\",\"chainId\":\"_all_\"},{\"id\":\"tp_qa_metacard\",\"type\":\"String\",\"value\":\"1\",\"chainId\":\"_all_\"},{\"id\":\"top_ebook\",\"type\":\"String\",\"value\":\"0\",\"chainId\":\"_all_\"},{\"id\":\"top_hotcommerce\",\"type\":\"String\",\"value\":\"1\",\"chainId\":\"_all_\"},{\"id\":\"se_entity\",\"type\":\"String\",\"value\":\"on\",\"chainId\":\"_all_\"},{\"id\":\"top_quality\",\"type\":\"String\",\"value\":\"0\",\"chainId\":\"_all_\"},{\"id\":\"se_auto_syn\",\"type\":\"String\",\"value\":\"0\",\"chainId\":\"_all_\"},{\"id\":\"se_click_limit\",\"type\":\"String\",\"value\":\"0\",\"chainId\":\"_all_\"},{\"id\":\"se_decoupling\",\"type\":\"String\",\"value\":\"0\",\"chainId\":\"_all_\"},{\"id\":\"top_zh_tailuser\",\"type\":\"String\",\"value\":\"1\",\"chainId\":\"_all_\"},{\"id\":\"web_heifetz_grow_ad\",\"type\":\"String\",\"value\":\"1\"},{\"id\":\"web_rp_id\",\"type\":\"String\",\"value\":\"0\"},{\"id\":\"se_config\",\"type\":\"String\",\"value\":\"1\",\"chainId\":\"_all_\"},{\"id\":\"se_webtimebox\",\"type\":\"String\",\"value\":\"0\",\"chainId\":\"_all_\"},{\"id\":\"top_vipconsume\",\"type\":\"String\",\"value\":\"1\",\"chainId\":\"_all_\"},{\"id\":\"tp_discussion_feed_type_android\",\"type\":\"String\",\"value\":\"2\",\"chainId\":\"_all_\"},{\"id\":\"web_column_auto_invite\",\"type\":\"String\",\"value\":\"0\"},{\"id\":\"zr_feed_cf\",\"type\":\"String\",\"value\":\"1\",\"chainId\":\"_all_\"},{\"id\":\"tp_header_style\",\"type\":\"String\",\"value\":\"1\",\"chainId\":\"_all_\"},{\"id\":\"se_site_onebox\",\"type\":\"String\",\"value\":\"0\",\"chainId\":\"_all_\"},{\"id\":\"top_gr_ab\",\"type\":\"String\",\"value\":\"0\",\"chainId\":\"_all_\"},{\"id\":\"top_root\",\"type\":\"String\",\"value\":\"0\",\"chainId\":\"_all_\"},{\"id\":\"ls_fmp4\",\"type\":\"String\",\"value\":\"0\",\"chainId\":\"_all_\"},{\"id\":\"se_billboardsearch\",\"type\":\"String\",\"value\":\"0\",\"chainId\":\"_all_\"},{\"id\":\"top_wonderful\",\"type\":\"String\",\"value\":\"1\",\"chainId\":\"_all_\"},{\"id\":\"top_sess_diversity\",\"type\":\"String\",\"value\":\"-1\",\"chainId\":\"_all_\"},{\"id\":\"top_video_rerank\",\"type\":\"String\",\"value\":\"-1\",\"chainId\":\"_all_\"},{\"id\":\"li_gbdt\",\"type\":\"String\",\"value\":\"2\",\"chainId\":\"_all_\"},{\"id\":\"ug_follow_answerer\",\"type\":\"String\",\"value\":\"0\",\"chainId\":\"_all_\"},{\"id\":\"ug_zero_follow_0\",\"type\":\"String\",\"value\":\"0\",\"chainId\":\"_all_\"},{\"id\":\"pf_fuceng\",\"type\":\"String\",\"value\":\"1\",\"chainId\":\"_all_\"},{\"id\":\"tp_sticky_android\",\"type\":\"String\",\"value\":\"0\",\"chainId\":\"_all_\"},{\"id\":\"se_ad_index\",\"type\":\"String\",\"value\":\"10\",\"chainId\":\"_all_\"},{\"id\":\"se_preset_tech\",\"type\":\"String\",\"value\":\"0\",\"chainId\":\"_all_\"},{\"id\":\"se_wannasearch\",\"type\":\"String\",\"value\":\"0\",\"chainId\":\"_all_\"},{\"id\":\"se_expired_ob\",\"type\":\"String\",\"value\":\"0\",\"chainId\":\"_all_\"},{\"id\":\"se_ltr_0318\",\"type\":\"String\",\"value\":\"0\",\"chainId\":\"_all_\"},{\"id\":\"se_minor_onebox\",\"type\":\"String\",\"value\":\"d\",\"chainId\":\"_all_\"},{\"id\":\"ug_follow_answerer_0\",\"type\":\"String\",\"value\":\"0\",\"chainId\":\"_all_\"},{\"id\":\"li_album_liutongab\",\"type\":\"String\",\"value\":\"0\",\"chainId\":\"_all_\"},{\"id\":\"se_zu_recommend\",\"type\":\"String\",\"value\":\"0\",\"chainId\":\"_all_\"},{\"id\":\"tp_sft\",\"type\":\"String\",\"value\":\"a\",\"chainId\":\"_all_\"},{\"id\":\"top_bill\",\"type\":\"String\",\"value\":\"0\",\"chainId\":\"_all_\"},{\"id\":\"top_recall_deep_user\",\"type\":\"String\",\"value\":\"1\",\"chainId\":\"_all_\"},{\"id\":\"li_se_intervene\",\"type\":\"String\",\"value\":\"1\",\"chainId\":\"_all_\"},{\"id\":\"se_rr\",\"type\":\"String\",\"value\":\"0\",\"chainId\":\"_all_\"},{\"id\":\"se_webmajorob\",\"type\":\"String\",\"value\":\"0\",\"chainId\":\"_all_\"},{\"id\":\"se_roundtable\",\"type\":\"String\",\"value\":\"0\",\"chainId\":\"_all_\"},{\"id\":\"se_topic\",\"type\":\"String\",\"value\":\"0\",\"chainId\":\"_all_\"},{\"id\":\"se_webrs\",\"type\":\"String\",\"value\":\"1\",\"chainId\":\"_all_\"},{\"id\":\"tp_sft_v2\",\"type\":\"String\",\"value\":\" a\",\"chainId\":\"_all_\"},{\"id\":\"se_bertv\",\"type\":\"String\",\"value\":\"0\",\"chainId\":\"_all_\"},{\"id\":\"se_likebutton\",\"type\":\"String\",\"value\":\"0\",\"chainId\":\"_all_\"},{\"id\":\"se_new_market_search\",\"type\":\"String\",\"value\":\"on\",\"chainId\":\"_all_\"},{\"id\":\"top_tabvideo\",\"type\":\"String\",\"value\":\"1\",\"chainId\":\"_all_\"},{\"id\":\"top_v_album\",\"type\":\"String\",\"value\":\"1\",\"chainId\":\"_all_\"},{\"id\":\"web_question_invite\",\"type\":\"String\",\"value\":\"B\"},{\"id\":\"zr_ans_rec\",\"type\":\"String\",\"value\":\"gbrank\",\"chainId\":\"_all_\"},{\"id\":\"pf_foltopic_usernum\",\"type\":\"String\",\"value\":\"50\",\"chainId\":\"_all_\"},{\"id\":\"soc_bigone\",\"type\":\"String\",\"value\":\"0\",\"chainId\":\"_all_\"},{\"id\":\"top_nucc\",\"type\":\"String\",\"value\":\"0\",\"chainId\":\"_all_\"},{\"id\":\"soc_special\",\"type\":\"String\",\"value\":\"0\",\"chainId\":\"_all_\"},{\"id\":\"zr_answer_rec\",\"type\":\"String\",\"value\":\"close\",\"chainId\":\"_all_\"},{\"id\":\"se_se_index\",\"type\":\"String\",\"value\":\"0\",\"chainId\":\"_all_\"},{\"id\":\"top_reason\",\"type\":\"String\",\"value\":\"1\",\"chainId\":\"_all_\"},{\"id\":\"li_lt_tp_score\",\"type\":\"String\",\"value\":\"1\",\"chainId\":\"_all_\"},{\"id\":\"li_ts_sample\",\"type\":\"String\",\"value\":\"old\",\"chainId\":\"_all_\"},{\"id\":\"pf_creator_card\",\"type\":\"String\",\"value\":\"1\",\"chainId\":\"_all_\"},{\"id\":\"gw_guide\",\"type\":\"String\",\"value\":\"0\",\"chainId\":\"_all_\"},{\"id\":\"pf_newguide_vertical\",\"type\":\"String\",\"value\":\"0\",\"chainId\":\"_all_\"},{\"id\":\"li_se_highlight\",\"type\":\"String\",\"value\":\"1\",\"chainId\":\"_all_\"},{\"id\":\"tp_m_intro_re_topic\",\"type\":\"String\",\"value\":\"1\",\"chainId\":\"_all_\"},{\"id\":\"se_sensitive\",\"type\":\"String\",\"value\":\"0\",\"chainId\":\"_all_\"},{\"id\":\"top_billupdate1\",\"type\":\"String\",\"value\":\"2\",\"chainId\":\"_all_\"},{\"id\":\"tp_qa_metacard_top\",\"type\":\"String\",\"value\":\"top\",\"chainId\":\"_all_\"},{\"id\":\"ug_zero_follow\",\"type\":\"String\",\"value\":\"0\",\"chainId\":\"_all_\"},{\"id\":\"zr_article_rec_rank\",\"type\":\"String\",\"value\":\"truncate\",\"chainId\":\"_all_\"},{\"id\":\"zr_km_material_buy\",\"type\":\"String\",\"value\":\"2\",\"chainId\":\"_all_\"},{\"id\":\"zr_search_material\",\"type\":\"String\",\"value\":\"0\",\"chainId\":\"_all_\"},{\"id\":\"se_backsearch\",\"type\":\"String\",\"value\":\"0\",\"chainId\":\"_all_\"},{\"id\":\"se_p_slideshow\",\"type\":\"String\",\"value\":\"0\",\"chainId\":\"_all_\"},{\"id\":\"ug_follow_topic_1\",\"type\":\"String\",\"value\":\"2\",\"chainId\":\"_all_\"},{\"id\":\"zr_rel_search\",\"type\":\"String\",\"value\":\"base\",\"chainId\":\"_all_\"},{\"id\":\"pf_feed\",\"type\":\"String\",\"value\":\"1\",\"chainId\":\"_all_\"},{\"id\":\"se_major_onebox\",\"type\":\"String\",\"value\":\"major\",\"chainId\":\"_all_\"},{\"id\":\"top_recall_exp_v1\",\"type\":\"String\",\"value\":\"1\",\"chainId\":\"_all_\"},{\"id\":\"top_new_feed\",\"type\":\"String\",\"value\":\"5\",\"chainId\":\"_all_\"},{\"id\":\"se_click_del\",\"type\":\"String\",\"value\":\"0\",\"chainId\":\"_all_\"},{\"id\":\"se_consulting_switch\",\"type\":\"String\",\"value\":\"off\",\"chainId\":\"_all_\"},{\"id\":\"se_lottery\",\"type\":\"String\",\"value\":\"0\",\"chainId\":\"_all_\"},{\"id\":\"top_test_4_liguangyi\",\"type\":\"String\",\"value\":\"1\",\"chainId\":\"_all_\"},{\"id\":\"qa_answerlist_ad\",\"type\":\"String\",\"value\":\"0\",\"chainId\":\"_all_\"},{\"id\":\"qa_video_answer_list\",\"type\":\"String\",\"value\":\"0\",\"chainId\":\"_all_\"},{\"id\":\"se_payconsult\",\"type\":\"String\",\"value\":\" 0\",\"chainId\":\"_all_\"},{\"id\":\"top_ydyq\",\"type\":\"String\",\"value\":\"X\",\"chainId\":\"_all_\"},{\"id\":\"se_km_ad_locate\",\"type\":\"String\",\"value\":\"1\",\"chainId\":\"_all_\"},{\"id\":\"se_zu_onebox\",\"type\":\"String\",\"value\":\"0\",\"chainId\":\"_all_\"},{\"id\":\"top_source\",\"type\":\"String\",\"value\":\"0\",\"chainId\":\"_all_\"},{\"id\":\"top_ntr\",\"type\":\"String\",\"value\":\"1\",\"chainId\":\"_all_\"},{\"id\":\"qa_test\",\"type\":\"String\",\"value\":\"0\",\"chainId\":\"_all_\"},{\"id\":\"qa_web_answerlist_ad\",\"type\":\"String\",\"value\":\"0\",\"chainId\":\"_all_\"},{\"id\":\"se_page_limit_20\",\"type\":\"String\",\"value\":\"1\",\"chainId\":\"_all_\"},{\"id\":\"top_universalebook\",\"type\":\"String\",\"value\":\"1\",\"chainId\":\"_all_\"},{\"id\":\"top_vipoffice\",\"type\":\"String\",\"value\":\"1\",\"chainId\":\"_all_\"},{\"id\":\"tsp_lastread\",\"type\":\"String\",\"value\":\"0\",\"chainId\":\"_all_\"},{\"id\":\"ug_fw_answ_aut_1\",\"type\":\"String\",\"value\":\"0\",\"chainId\":\"_all_\"},{\"id\":\"pf_noti_entry_num\",\"type\":\"String\",\"value\":\"0\",\"chainId\":\"_all_\"},{\"id\":\"se_consulting_price\",\"type\":\"String\",\"value\":\"n\",\"chainId\":\"_all_\"},{\"id\":\"se_websearch\",\"type\":\"String\",\"value\":\"3\",\"chainId\":\"_all_\"}],\"chains\":[{\"chainId\":\"_all_\"}]},\"triggers\":{}},\"userAgent\":{\"Edge\":false,\"Wechat\":false,\"Weibo\":false,\"QQ\":false,\"Qzone\":false,\"Mobile\":false,\"Android\":false,\"iOS\":false,\"isAppleDevice\":true,\"Zhihu\":false,\"ZhihuHybrid\":false,\"isBot\":false,\"Tablet\":false,\"UC\":false,\"Sogou\":false,\"Qihoo\":false,\"Baidu\":false,\"BaiduApp\":false,\"Safari\":false,\"isWebView\":false,\"origin\":\"Mozilla\\u002F5.0 (Macintosh; Intel Mac OS X 10_14_2) AppleWebKit\\u002F537.36 (KHTML, like Gecko) Chrome\\u002F73.0.3683.103 Safari\\u002F537.36\"},\"trafficSource\":\"production\",\"edition\":{\"baidu\":false,\"sogou\":false,\"baiduBeijing\":false},\"theme\":\"light\",\"enableShortcut\":true,\"referer\":\"https:\\u002F\\u002Fwww.zhihu.com\\u002F\",\"conf\":{},\"ipInfo\":{},\"logged\":false,\"tdkInfo\":{}},\"me\":{\"accountInfoLoadStatus\":{},\"organizationProfileStatus\":{},\"columnContributions\":[]},\"label\":{\"recognizerLists\":{}},\"comments\":{\"pagination\":{},\"collapsed\":{},\"reverse\":{},\"reviewing\":{},\"conversation\":{},\"parent\":{}},\"commentsV2\":{\"stickers\":[],\"commentWithPicPermission\":{},\"notificationsComments\":{},\"pagination\":{},\"collapsed\":{},\"reverse\":{},\"reviewing\":{},\"conversation\":{},\"conversationMore\":{},\"parent\":{},\"commentV2PostErr\":{}},\"pushNotifications\":{\"default\":{\"isFetching\":false,\"isDrained\":false,\"ids\":[]},\"follow\":{\"isFetching\":false,\"isDrained\":false,\"ids\":[]},\"vote_thank\":{\"isFetching\":false,\"isDrained\":false,\"ids\":[]},\"currentTab\":\"default\",\"notificationsCount\":{\"default\":0,\"follow\":0,\"vote_thank\":0}},\"messages\":{\"data\":{},\"currentTab\":\"common\",\"messageCount\":0},\"register\":{\"registerValidateSucceeded\":null,\"registerValidateErrors\":{},\"registerConfirmError\":null,\"sendDigitsError\":null,\"registerConfirmSucceeded\":null},\"login\":{\"loginUnregisteredError\":false,\"loginBindWechatError\":false,\"loginConfirmError\":null,\"sendDigitsError\":null,\"validateDigitsError\":false,\"loginConfirmSucceeded\":null,\"qrcodeLoginToken\":\"\",\"qrcodeLoginScanStatus\":0,\"qrcodeLoginError\":null,\"qrcodeLoginReturnNewToken\":false},\"active\":{\"sendDigitsError\":null,\"activeConfirmSucceeded\":null,\"activeConfirmError\":null},\"switches\":{\"vipSwitches\":{\"mAINSWITCH\":false,\"wIDGET\":false,\"vIPCUSTOMERSERVICE\":false,\"rECOMMENDBLOCKKEYWORDS\":false,\"pROFILETOPARTICLE\":false,\"cOMMENTSUPPORTIMAGE\":false,\"vIPICON\":false,\"sPEEDRENAME\":false,\"eXCLUSIVEEXPRESSION\":false}},\"captcha\":{\"captchaNeeded\":false,\"captchaValidated\":false,\"captchaBase64String\":null,\"captchaValidationMessage\":null,\"loginCaptchaExpires\":false},\"sms\":{\"supportedCountries\":[]},\"question\":{\"followers\":{},\"concernedFollowers\":{},\"answers\":{},\"hiddenAnswers\":{},\"updatedAnswers\":{},\"collapsedAnswers\":{},\"notificationAnswers\":{},\"invitationCandidates\":{},\"inviters\":{},\"invitees\":{},\"similarQuestions\":{},\"relatedCommodities\":{},\"recommendReadings\":{},\"bio\":{},\"brand\":{},\"permission\":{},\"adverts\":{},\"advancedStyle\":{},\"commonAnswerCount\":0,\"hiddenAnswerCount\":0,\"meta\":{},\"autoInvitation\":{},\"simpleConcernedFollowers\":{},\"draftStatus\":{}},\"shareTexts\":{},\"answers\":{\"voters\":{},\"copyrightApplicants\":{},\"favlists\":{},\"newAnswer\":{},\"concernedUpvoters\":{},\"simpleConcernedUpvoters\":{},\"paidContent\":{}},\"banner\":{},\"topic\":{\"bios\":{},\"hot\":{},\"newest\":{},\"top\":{},\"unanswered\":{},\"questions\":{},\"followers\":{},\"contributors\":{},\"parent\":{},\"children\":{},\"bestAnswerers\":{},\"wikiMeta\":{},\"index\":{},\"intro\":{},\"meta\":{},\"schema\":{},\"creatorWall\":{},\"wikiEditInfo\":{},\"committedWiki\":{}},\"explore\":{\"recommendations\":{}},\"articles\":{\"voters\":{}},\"favlists\":{\"relations\":{}},\"pins\":{\"voters\":{}},\"topstory\":{\"topstorys\":{\"isFetching\":false,\"isDrained\":false,\"afterId\":0,\"items\":[],\"next\":null},\"recommend\":{\"isFetching\":false,\"isDrained\":false,\"afterId\":0,\"items\":[],\"next\":null},\"follow\":{\"isFetching\":false,\"isDrained\":false,\"afterId\":0,\"items\":[],\"next\":null},\"followWonderful\":{\"isFetching\":false,\"isDrained\":false,\"afterId\":0,\"items\":[],\"next\":null},\"sidebar\":null,\"announcement\":{},\"hotList\":[],\"guestFeeds\":{\"isFetching\":false,\"isDrained\":false,\"afterId\":0,\"items\":[],\"next\":null},\"followExtra\":{\"isNewUser\":null,\"isFetched\":false,\"followCount\":0,\"followers\":[]}},\"upload\":{},\"video\":{\"data\":{},\"shareVideoDetail\":{},\"last\":{}},\"guide\":{\"guide\":{\"isFetching\":false,\"isShowGuide\":false}},\"reward\":{\"answer\":{},\"article\":{},\"question\":{}},\"search\":{\"recommendSearch\":[],\"topSearch\":{},\"attachedInfo\":{},\"nextOffset\":{},\"topicReview\":{},\"generalByQuery\":{},\"generalByQueryInADay\":{},\"generalByQueryInAWeek\":{},\"generalByQueryInThreeMonths\":{},\"peopleByQuery\":{},\"topicByQuery\":{},\"columnByQuery\":{},\"liveByQuery\":{},\"albumByQuery\":{},\"eBookByQuery\":{}},\"creator\":{\"currentCreatorUrlToken\":null,\"tools\":{\"question\":{\"invitationCount\":{\"questionFolloweeCount\":0,\"questionTotalCount\":0},\"goodatTopics\":[]},\"customPromotion\":{\"itemLists\":{}},\"recommend\":{\"recommendTimes\":{}}},\"explore\":{\"academy\":{\"tabs\":[],\"article\":{}}},\"rights\":[],\"rightsStatus\":{},\"levelUpperLimit\":10,\"account\":{\"growthLevel\":{}}},\"publicEditPermission\":{},\"readStatus\":{},\"draftHistory\":{\"history\":{},\"drafts\":{}}},\"subAppName\":\"main\"}</script>"
      ]
     },
     "execution_count": 78,
     "metadata": {},
     "output_type": "execute_result"
    }
   ],
   "source": [
    "detail_profiles"
   ]
  },
  {
   "cell_type": "code",
   "execution_count": 71,
   "metadata": {},
   "outputs": [
    {
     "data": {
      "text/plain": [
       "{'id': '1b0812207be4a06cea0e641afb98703a',\n",
       " 'urlToken': 'fan-jia-liang-57',\n",
       " 'name': '此去经年',\n",
       " 'avatarUrl': 'https://pic4.zhimg.com/da8e974dc_is.jpg',\n",
       " 'avatarUrlTemplate': 'https://pic4.zhimg.com/da8e974dc_{size}.jpg',\n",
       " 'isOrg': False,\n",
       " 'type': 'people',\n",
       " 'url': 'http://www.zhihu.com/people/fan-jia-liang-57',\n",
       " 'userType': 'people',\n",
       " 'headline': '软件专业学生',\n",
       " 'isActive': 1444494986,\n",
       " 'description': '',\n",
       " 'gender': 1,\n",
       " 'isAdvertiser': False,\n",
       " 'vipInfo': {'isVip': False, 'renameDays': '60'},\n",
       " 'badge': [],\n",
       " 'accountStatus': [],\n",
       " 'messageThreadToken': '3227377600',\n",
       " 'allowMessage': True,\n",
       " 'isFollowing': False,\n",
       " 'isFollowed': False,\n",
       " 'isBlocking': False,\n",
       " 'isBlocked': False,\n",
       " 'isForceRenamed': False,\n",
       " 'followerCount': 6,\n",
       " 'followingCount': 43,\n",
       " 'mutualFolloweesCount': 0,\n",
       " 'answerCount': 4,\n",
       " 'questionCount': 2,\n",
       " 'commercialQuestionCount': 0,\n",
       " 'articlesCount': 1,\n",
       " 'columnsCount': 0,\n",
       " 'favoriteCount': 7,\n",
       " 'favoritedCount': 0,\n",
       " 'pinsCount': 0,\n",
       " 'logsCount': 5,\n",
       " 'voteupCount': 1,\n",
       " 'thankedCount': 0,\n",
       " 'hostedLiveCount': 0,\n",
       " 'participatedLiveCount': 0,\n",
       " 'includedAnswersCount': 0,\n",
       " 'includedArticlesCount': 0,\n",
       " 'includedText': '',\n",
       " 'followingColumnsCount': 6,\n",
       " 'followingTopicCount': 13,\n",
       " 'followingQuestionCount': 28,\n",
       " 'followingFavlistsCount': 0,\n",
       " 'voteToCount': 0,\n",
       " 'voteFromCount': 0,\n",
       " 'thankToCount': 0,\n",
       " 'thankFromCount': 0,\n",
       " 'recognizedCount': 0,\n",
       " 'business': {'id': '19619368',\n",
       "  'type': 'topic',\n",
       "  'url': 'http://www.zhihu.com/topics/19619368',\n",
       "  'name': '计算机软件',\n",
       "  'avatarUrl': 'https://pic4.zhimg.com/e82bab09c_is.jpg'},\n",
       " 'locations': [{'id': '19569835',\n",
       "   'type': 'topic',\n",
       "   'url': 'http://www.zhihu.com/topics/19569835',\n",
       "   'name': '济南',\n",
       "   'avatarUrl': 'https://pic2.zhimg.com/v2-065e4acc6e1b7ee6d9df318348ae6dac_is.jpg'}],\n",
       " 'employments': [],\n",
       " 'educations': [{'school': {'id': '19864829',\n",
       "    'type': 'topic',\n",
       "    'url': 'http://www.zhihu.com/topics/19864829',\n",
       "    'name': '山东大学',\n",
       "    'avatarUrl': 'https://pic3.zhimg.com/150555933_is.jpg'},\n",
       "   'diploma': 0}],\n",
       " 'coverUrl': '',\n",
       " 'avatarHue': '',\n",
       " 'isPrivacyProtected': True}"
      ]
     },
     "execution_count": 71,
     "metadata": {},
     "output_type": "execute_result"
    }
   ],
   "source": [
    "list(res[\"initialState\"]['entities']['users'].items())[0][1]"
   ]
  },
  {
   "cell_type": "code",
   "execution_count": 73,
   "metadata": {},
   "outputs": [
    {
     "data": {
      "text/plain": [
       "'https://www.zhihu.com/people/fan-jia-liang-57/following'"
      ]
     },
     "execution_count": 73,
     "metadata": {},
     "output_type": "execute_result"
    }
   ],
   "source": [
    "user_url\n"
   ]
  },
  {
   "cell_type": "code",
   "execution_count": 75,
   "metadata": {},
   "outputs": [
    {
     "data": {
      "text/plain": [
       "'fan-jia-liang-57'"
      ]
     },
     "execution_count": 75,
     "metadata": {},
     "output_type": "execute_result"
    }
   ],
   "source": [
    "user_url.split('/')[-2]"
   ]
  },
  {
   "cell_type": "code",
   "execution_count": null,
   "metadata": {},
   "outputs": [],
   "source": []
  }
 ],
 "metadata": {
  "kernelspec": {
   "display_name": "Python 3",
   "language": "python",
   "name": "python3"
  },
  "language_info": {
   "codemirror_mode": {
    "name": "ipython",
    "version": 3
   },
   "file_extension": ".py",
   "mimetype": "text/x-python",
   "name": "python",
   "nbconvert_exporter": "python",
   "pygments_lexer": "ipython3",
   "version": "3.7.1"
  }
 },
 "nbformat": 4,
 "nbformat_minor": 2
}
